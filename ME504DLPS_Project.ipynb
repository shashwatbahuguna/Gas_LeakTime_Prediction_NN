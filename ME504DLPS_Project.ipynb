{
  "nbformat": 4,
  "nbformat_minor": 0,
  "metadata": {
    "colab": {
      "name": "ME504DLPS Project.ipynb",
      "provenance": [],
      "collapsed_sections": [],
      "toc_visible": true,
      "include_colab_link": true
    },
    "kernelspec": {
      "name": "python3",
      "display_name": "Python 3"
    }
  },
  "cells": [
    {
      "cell_type": "markdown",
      "metadata": {
        "id": "view-in-github",
        "colab_type": "text"
      },
      "source": [
        "<a href=\"https://colab.research.google.com/github/shashwatbahuguna/Gas_LeakTime_Prediction_NN/blob/main/ME504DLPS_Project.ipynb\" target=\"_parent\"><img src=\"https://colab.research.google.com/assets/colab-badge.svg\" alt=\"Open In Colab\"/></a>"
      ]
    },
    {
      "cell_type": "code",
      "metadata": {
        "id": "zGcjZ6L_UZce"
      },
      "source": [
        "import numpy as np\n",
        "import tensorflow as tf\n",
        "import matplotlib.pyplot as plt\n",
        "import pandas as pd\n",
        "from tensorflow.keras import layers, Model\n",
        "import keras\n",
        "from keras.regularizers import l2\n",
        "\n",
        "# For Ordinal Encoding and standardising of the input\n",
        "from sklearn.preprocessing import StandardScaler, OrdinalEncoder\n",
        "encoder = OrdinalEncoder()\n",
        "\n",
        "\n",
        "# For recording history MSE values\n",
        "from keras.callbacks import History "
      ],
      "execution_count": 60,
      "outputs": []
    },
    {
      "cell_type": "code",
      "metadata": {
        "colab": {
          "base_uri": "https://localhost:8080/",
          "height": 383
        },
        "id": "ODl4VAWRiO7B",
        "outputId": "e1e9e89d-0d51-416d-bf4b-08ede456e622"
      },
      "source": [
        "# Total dataset imported\n",
        "# dataset_total = pd.read_csv(\"ME504 ProcessedFinalData.csv\", usecols=[\"Service Time(Years)\", \"MF_INVOLVED_TEXT\", \"LEAK_LOCATION_A_TEXT\", \"LEAK_LOCATION_B_TEXT\", \"LEAK_LOCATION_C_TEXT\", \"FITTING_MATERIAL_TEXT\", \"PIPE - 1 MATERIAL\",\t\"PIPE - 2 MATERIAL\",\t\"CAUSE OF LEAK\", \"LEAK_OCCURRED_TEXT\", \"PIPE - 1 DIA\",\t\"PIPE - 2 DIA\", \"MF_TYPE_TEXT\" ])\n",
        "url = 'https://raw.githubusercontent.com/shashwatbahuguna/Gas_LeakTime_Prediction_NN/main/ME504%20ProcessedFinalData.csv'\n",
        "dataset_total = pd.read_csv(url , usecols=[\"Service Time(Years)\", \"MF_INVOLVED_TEXT\", \"LEAK_LOCATION_A_TEXT\", \"LEAK_LOCATION_B_TEXT\", \"LEAK_LOCATION_C_TEXT\", \"FITTING_MATERIAL_TEXT\", \"PIPE - 1 MATERIAL\",\t\"PIPE - 2 MATERIAL\",\t\"CAUSE OF LEAK\", \"LEAK_OCCURRED_TEXT\", \"PIPE - 1 DIA\",\t\"PIPE - 2 DIA\", \"MF_TYPE_TEXT\" ])\n",
        "dataset_total = dataset_total[dataset_total[\"Service Time(Years)\"] != 0]\n",
        "dataset_total.head()"
      ],
      "execution_count": 61,
      "outputs": [
        {
          "output_type": "execute_result",
          "data": {
            "text/html": [
              "<div>\n",
              "<style scoped>\n",
              "    .dataframe tbody tr th:only-of-type {\n",
              "        vertical-align: middle;\n",
              "    }\n",
              "\n",
              "    .dataframe tbody tr th {\n",
              "        vertical-align: top;\n",
              "    }\n",
              "\n",
              "    .dataframe thead th {\n",
              "        text-align: right;\n",
              "    }\n",
              "</style>\n",
              "<table border=\"1\" class=\"dataframe\">\n",
              "  <thead>\n",
              "    <tr style=\"text-align: right;\">\n",
              "      <th></th>\n",
              "      <th>PIPE - 1 DIA</th>\n",
              "      <th>PIPE - 2 DIA</th>\n",
              "      <th>Service Time(Years)</th>\n",
              "      <th>FITTING_MATERIAL_TEXT</th>\n",
              "      <th>PIPE - 1 MATERIAL</th>\n",
              "      <th>PIPE - 2 MATERIAL</th>\n",
              "      <th>MF_INVOLVED_TEXT</th>\n",
              "      <th>MF_TYPE_TEXT</th>\n",
              "      <th>LEAK_LOCATION_A_TEXT</th>\n",
              "      <th>LEAK_LOCATION_B_TEXT</th>\n",
              "      <th>LEAK_LOCATION_C_TEXT</th>\n",
              "      <th>CAUSE OF LEAK</th>\n",
              "      <th>LEAK_OCCURRED_TEXT</th>\n",
              "    </tr>\n",
              "  </thead>\n",
              "  <tbody>\n",
              "    <tr>\n",
              "      <th>48</th>\n",
              "      <td>8.0</td>\n",
              "      <td>4.0</td>\n",
              "      <td>1</td>\n",
              "      <td>STEEL</td>\n",
              "      <td>PLASTIC</td>\n",
              "      <td>PLASTIC</td>\n",
              "      <td>BOLTED</td>\n",
              "      <td>COUPLING</td>\n",
              "      <td>BELOWGROUND</td>\n",
              "      <td>OUTSIDE</td>\n",
              "      <td>MAIN-TO-MAIN</td>\n",
              "      <td>OTHER</td>\n",
              "      <td>LEAKED THROUGH SEAL</td>\n",
              "    </tr>\n",
              "    <tr>\n",
              "      <th>49</th>\n",
              "      <td>8.0</td>\n",
              "      <td>6.0</td>\n",
              "      <td>1</td>\n",
              "      <td>COMBINATION PLASTIC AND STEEL</td>\n",
              "      <td>PLASTIC</td>\n",
              "      <td>PLASTIC</td>\n",
              "      <td>NUT FOLLOWER</td>\n",
              "      <td>COUPLING</td>\n",
              "      <td>BELOWGROUND</td>\n",
              "      <td>OUTSIDE</td>\n",
              "      <td>SERVICE-TO-SERVICE</td>\n",
              "      <td>INCORRECT OPERATION</td>\n",
              "      <td>PULLED OUT</td>\n",
              "    </tr>\n",
              "    <tr>\n",
              "      <th>50</th>\n",
              "      <td>8.0</td>\n",
              "      <td>6.0</td>\n",
              "      <td>1</td>\n",
              "      <td>PLASTIC</td>\n",
              "      <td>PLASTIC</td>\n",
              "      <td>PLASTIC</td>\n",
              "      <td>OTHER COMPRESSION TYPE FITTING</td>\n",
              "      <td>COUPLING</td>\n",
              "      <td>BELOWGROUND</td>\n",
              "      <td>OUTSIDE</td>\n",
              "      <td>SERVICE-TO-SERVICE</td>\n",
              "      <td>INCORRECT OPERATION</td>\n",
              "      <td>LEAKED THROUGH SEAL</td>\n",
              "    </tr>\n",
              "    <tr>\n",
              "      <th>51</th>\n",
              "      <td>8.0</td>\n",
              "      <td>6.0</td>\n",
              "      <td>1</td>\n",
              "      <td>PLASTIC</td>\n",
              "      <td>PLASTIC</td>\n",
              "      <td>PLASTIC</td>\n",
              "      <td>NUT FOLLOWER</td>\n",
              "      <td>VALVE</td>\n",
              "      <td>BELOWGROUND</td>\n",
              "      <td>OUTSIDE</td>\n",
              "      <td>SERVICE-TO-SERVICE</td>\n",
              "      <td>INCORRECT OPERATION</td>\n",
              "      <td>LEAKED THROUGH SEAL</td>\n",
              "    </tr>\n",
              "    <tr>\n",
              "      <th>52</th>\n",
              "      <td>8.0</td>\n",
              "      <td>6.0</td>\n",
              "      <td>1</td>\n",
              "      <td>PLASTIC</td>\n",
              "      <td>PLASTIC</td>\n",
              "      <td>PLASTIC</td>\n",
              "      <td>STAB</td>\n",
              "      <td>RISER</td>\n",
              "      <td>ABOVEGROUND</td>\n",
              "      <td>OUTSIDE</td>\n",
              "      <td>SERVICE-TO-SERVICE</td>\n",
              "      <td>OTHER OUTSIDE FORCE DAMAGE</td>\n",
              "      <td>LEAKED THROUGH BODY</td>\n",
              "    </tr>\n",
              "  </tbody>\n",
              "</table>\n",
              "</div>"
            ],
            "text/plain": [
              "    PIPE - 1 DIA  PIPE - 2 DIA  ...               CAUSE OF LEAK   LEAK_OCCURRED_TEXT\n",
              "48           8.0           4.0  ...                       OTHER  LEAKED THROUGH SEAL\n",
              "49           8.0           6.0  ...         INCORRECT OPERATION           PULLED OUT\n",
              "50           8.0           6.0  ...         INCORRECT OPERATION  LEAKED THROUGH SEAL\n",
              "51           8.0           6.0  ...         INCORRECT OPERATION  LEAKED THROUGH SEAL\n",
              "52           8.0           6.0  ...  OTHER OUTSIDE FORCE DAMAGE  LEAKED THROUGH BODY\n",
              "\n",
              "[5 rows x 13 columns]"
            ]
          },
          "metadata": {
            "tags": []
          },
          "execution_count": 61
        }
      ]
    },
    {
      "cell_type": "code",
      "metadata": {
        "colab": {
          "base_uri": "https://localhost:8080/",
          "height": 195
        },
        "id": "iKMRi7Deij4U",
        "outputId": "dc4a5c9e-7ae8-4a30-dbac-6e9e9a9138e3"
      },
      "source": [
        "# Separating Output Feature\n",
        "Y_num = dataset_total[[\"Service Time(Years)\"]].copy()\n",
        "Y_num.head()"
      ],
      "execution_count": 62,
      "outputs": [
        {
          "output_type": "execute_result",
          "data": {
            "text/html": [
              "<div>\n",
              "<style scoped>\n",
              "    .dataframe tbody tr th:only-of-type {\n",
              "        vertical-align: middle;\n",
              "    }\n",
              "\n",
              "    .dataframe tbody tr th {\n",
              "        vertical-align: top;\n",
              "    }\n",
              "\n",
              "    .dataframe thead th {\n",
              "        text-align: right;\n",
              "    }\n",
              "</style>\n",
              "<table border=\"1\" class=\"dataframe\">\n",
              "  <thead>\n",
              "    <tr style=\"text-align: right;\">\n",
              "      <th></th>\n",
              "      <th>Service Time(Years)</th>\n",
              "    </tr>\n",
              "  </thead>\n",
              "  <tbody>\n",
              "    <tr>\n",
              "      <th>48</th>\n",
              "      <td>1</td>\n",
              "    </tr>\n",
              "    <tr>\n",
              "      <th>49</th>\n",
              "      <td>1</td>\n",
              "    </tr>\n",
              "    <tr>\n",
              "      <th>50</th>\n",
              "      <td>1</td>\n",
              "    </tr>\n",
              "    <tr>\n",
              "      <th>51</th>\n",
              "      <td>1</td>\n",
              "    </tr>\n",
              "    <tr>\n",
              "      <th>52</th>\n",
              "      <td>1</td>\n",
              "    </tr>\n",
              "  </tbody>\n",
              "</table>\n",
              "</div>"
            ],
            "text/plain": [
              "    Service Time(Years)\n",
              "48                    1\n",
              "49                    1\n",
              "50                    1\n",
              "51                    1\n",
              "52                    1"
            ]
          },
          "metadata": {
            "tags": []
          },
          "execution_count": 62
        }
      ]
    },
    {
      "cell_type": "code",
      "metadata": {
        "colab": {
          "base_uri": "https://localhost:8080/",
          "height": 246
        },
        "id": "m-ixXlhP1FaD",
        "outputId": "8ece02f4-51ff-46a0-c0d2-37fde1bf17ab"
      },
      "source": [
        "# Separating Input Variables\n",
        "X = dataset_total[[\"MF_INVOLVED_TEXT\",  \"MF_TYPE_TEXT\", \"PIPE - 1 DIA\", \"PIPE - 2 DIA\",  \"PIPE - 1 MATERIAL\",\t\"PIPE - 2 MATERIAL\", \"FITTING_MATERIAL_TEXT\"]].copy() #\"Altitude (m)\", \n",
        "X.head()"
      ],
      "execution_count": 63,
      "outputs": [
        {
          "output_type": "execute_result",
          "data": {
            "text/html": [
              "<div>\n",
              "<style scoped>\n",
              "    .dataframe tbody tr th:only-of-type {\n",
              "        vertical-align: middle;\n",
              "    }\n",
              "\n",
              "    .dataframe tbody tr th {\n",
              "        vertical-align: top;\n",
              "    }\n",
              "\n",
              "    .dataframe thead th {\n",
              "        text-align: right;\n",
              "    }\n",
              "</style>\n",
              "<table border=\"1\" class=\"dataframe\">\n",
              "  <thead>\n",
              "    <tr style=\"text-align: right;\">\n",
              "      <th></th>\n",
              "      <th>MF_INVOLVED_TEXT</th>\n",
              "      <th>MF_TYPE_TEXT</th>\n",
              "      <th>PIPE - 1 DIA</th>\n",
              "      <th>PIPE - 2 DIA</th>\n",
              "      <th>PIPE - 1 MATERIAL</th>\n",
              "      <th>PIPE - 2 MATERIAL</th>\n",
              "      <th>FITTING_MATERIAL_TEXT</th>\n",
              "    </tr>\n",
              "  </thead>\n",
              "  <tbody>\n",
              "    <tr>\n",
              "      <th>48</th>\n",
              "      <td>BOLTED</td>\n",
              "      <td>COUPLING</td>\n",
              "      <td>8.0</td>\n",
              "      <td>4.0</td>\n",
              "      <td>PLASTIC</td>\n",
              "      <td>PLASTIC</td>\n",
              "      <td>STEEL</td>\n",
              "    </tr>\n",
              "    <tr>\n",
              "      <th>49</th>\n",
              "      <td>NUT FOLLOWER</td>\n",
              "      <td>COUPLING</td>\n",
              "      <td>8.0</td>\n",
              "      <td>6.0</td>\n",
              "      <td>PLASTIC</td>\n",
              "      <td>PLASTIC</td>\n",
              "      <td>COMBINATION PLASTIC AND STEEL</td>\n",
              "    </tr>\n",
              "    <tr>\n",
              "      <th>50</th>\n",
              "      <td>OTHER COMPRESSION TYPE FITTING</td>\n",
              "      <td>COUPLING</td>\n",
              "      <td>8.0</td>\n",
              "      <td>6.0</td>\n",
              "      <td>PLASTIC</td>\n",
              "      <td>PLASTIC</td>\n",
              "      <td>PLASTIC</td>\n",
              "    </tr>\n",
              "    <tr>\n",
              "      <th>51</th>\n",
              "      <td>NUT FOLLOWER</td>\n",
              "      <td>VALVE</td>\n",
              "      <td>8.0</td>\n",
              "      <td>6.0</td>\n",
              "      <td>PLASTIC</td>\n",
              "      <td>PLASTIC</td>\n",
              "      <td>PLASTIC</td>\n",
              "    </tr>\n",
              "    <tr>\n",
              "      <th>52</th>\n",
              "      <td>STAB</td>\n",
              "      <td>RISER</td>\n",
              "      <td>8.0</td>\n",
              "      <td>6.0</td>\n",
              "      <td>PLASTIC</td>\n",
              "      <td>PLASTIC</td>\n",
              "      <td>PLASTIC</td>\n",
              "    </tr>\n",
              "  </tbody>\n",
              "</table>\n",
              "</div>"
            ],
            "text/plain": [
              "                  MF_INVOLVED_TEXT  ...          FITTING_MATERIAL_TEXT\n",
              "48                          BOLTED  ...                          STEEL\n",
              "49                    NUT FOLLOWER  ...  COMBINATION PLASTIC AND STEEL\n",
              "50  OTHER COMPRESSION TYPE FITTING  ...                        PLASTIC\n",
              "51                    NUT FOLLOWER  ...                        PLASTIC\n",
              "52                            STAB  ...                        PLASTIC\n",
              "\n",
              "[5 rows x 7 columns]"
            ]
          },
          "metadata": {
            "tags": []
          },
          "execution_count": 63
        }
      ]
    },
    {
      "cell_type": "code",
      "metadata": {
        "id": "J68uhvipx3gC"
      },
      "source": [
        "# Numerical Component of Input Variables\n",
        "X_num  = X[[\"PIPE - 1 DIA\"\t,\"PIPE - 2 DIA\"]]\n",
        "X_num.head()\n",
        "\n",
        "\n",
        "# Standardizing Numerical Input Features\n",
        "ss = StandardScaler()\n",
        "X_num_std = ss.fit_transform(X_num)"
      ],
      "execution_count": 64,
      "outputs": []
    },
    {
      "cell_type": "code",
      "metadata": {
        "id": "agkAgKNzxn5J"
      },
      "source": [
        "# Categorical Component of Input Variables\n",
        "X_cat = X[[\"MF_INVOLVED_TEXT\", \"MF_TYPE_TEXT\", \"PIPE - 1 MATERIAL\"\t,\"PIPE - 2 MATERIAL\",\t\"FITTING_MATERIAL_TEXT\"]].copy()\n",
        "X_cat.head()\n",
        "\n",
        "# Ordinal Encoding (Integers from 1 to n alloted to each Category) For Categorical Inputs (For Embedding Layer)\n",
        "X_cat_enc = encoder.fit_transform(X_cat)"
      ],
      "execution_count": 65,
      "outputs": []
    },
    {
      "cell_type": "markdown",
      "metadata": {
        "id": "nwngaCfTCf-e"
      },
      "source": [
        ""
      ]
    },
    {
      "cell_type": "code",
      "metadata": {
        "colab": {
          "base_uri": "https://localhost:8080/"
        },
        "id": "IclWF1NGZkG0",
        "outputId": "91ca665f-6df1-4d4d-e7bd-fcdb12cbf5cf"
      },
      "source": [
        "# For Counting no. of Different Categories to determine Embedding Layer Size\n",
        "X_cat.value_counts()"
      ],
      "execution_count": 66,
      "outputs": [
        {
          "output_type": "execute_result",
          "data": {
            "text/plain": [
              "MF_INVOLVED_TEXT                MF_TYPE_TEXT         PIPE - 1 MATERIAL  PIPE - 2 MATERIAL  FITTING_MATERIAL_TEXT        \n",
              "NUT FOLLOWER                    COUPLING             STEEL              STEEL              STEEL                            859\n",
              "BOLTED                          COUPLING             STEEL              STEEL              STEEL                            346\n",
              "STAB                            COUPLING             PLASTIC            PLASTIC            PLASTIC                          341\n",
              "NUT FOLLOWER                    COUPLING             STEEL              PLASTIC            STEEL                            333\n",
              "                                SERVICE OR MAIN TEE  STEEL              STEEL              STEEL                            299\n",
              "                                                                                                                           ... \n",
              "OTHER COMPRESSION TYPE FITTING  ADAPTER              COPPER             COPPER             COMBINATION PLASTIC AND STEEL      1\n",
              "                                                                        PLASTIC            COMBINATION PLASTIC AND STEEL      1\n",
              "                                                     PLASTIC            PLASTIC            PLASTIC                            1\n",
              "                                                                        STEEL              PLASTIC                            1\n",
              "BOLTED                          ADAPTER              PLASTIC            PLASTIC            STEEL                              1\n",
              "Length: 642, dtype: int64"
            ]
          },
          "metadata": {
            "tags": []
          },
          "execution_count": 66
        }
      ]
    },
    {
      "cell_type": "code",
      "metadata": {
        "id": "6dyNA2oJGd7c"
      },
      "source": [
        "# DEFINING THE MODEL\n",
        "\n",
        "\n",
        "# Input Layers (4 for Categorical, 4 for numerical Input)\n",
        "num_inputs = tf.keras.layers.Input((X_num.shape[1],  ), name = \"num_input\")\n",
        "\n",
        "cat_inputs_a = tf.keras.layers.Input((1,  ), name = \"cat_input_a\")\n",
        "cat_inputs_b = tf.keras.layers.Input((1,  ), name = \"cat_input_b\")\n",
        "cat_inputs_c = tf.keras.layers.Input((1,  ), name = \"cat_input_c\")\n",
        "cat_inputs_d = tf.keras.layers.Input((1,  ), name = \"cat_input_d\")\n",
        "cat_inputs_e = tf.keras.layers.Input((1,  ), name = \"cat_input_e\")\n",
        "\n",
        "\n",
        "# Embedding Layers Correcspoding to Each Feature  (Size for layers, Output features is Hard Coded As per Post-Processing Data)\n",
        "cat_proc_a = tf.keras.layers.Embedding(7, 6, input_length = X_cat_enc.shape[1])(cat_inputs_a)\n",
        "cat_proc_b = tf.keras.layers.Embedding(9, 8, input_length = X_cat_enc.shape[1])(cat_inputs_b)\n",
        "cat_proc_c = tf.keras.layers.Embedding(9, 5, input_length = X_cat_enc.shape[1])(cat_inputs_c)\n",
        "cat_proc_d = tf.keras.layers.Embedding(12, 11, input_length = X_cat_enc.shape[1])(cat_inputs_d)\n",
        "cat_proc_e = tf.keras.layers.Embedding(12, 11, input_length = X_cat_enc.shape[1])(cat_inputs_e)\n",
        "\n",
        "# Flattening the Output Tf Vector for Each layer for concatenation at later stage \n",
        "cat_proc_a = tf.keras.layers.Flatten()(cat_proc_a)\n",
        "cat_proc_b = tf.keras.layers.Flatten()(cat_proc_b)\n",
        "cat_proc_c = tf.keras.layers.Flatten()(cat_proc_c)\n",
        "cat_proc_d = tf.keras.layers.Flatten()(cat_proc_d)\n",
        "cat_proc_e = tf.keras.layers.Flatten()(cat_proc_e)\n",
        "\n",
        "\n",
        "# Conctenating Embedding Layer Outputs with Numerical Inputs\n",
        "x = tf.keras.layers.Concatenate( axis = -1)([num_inputs, cat_proc_a, cat_proc_b, cat_proc_c, cat_proc_d, cat_proc_e])\n",
        "\n",
        "\n",
        "# SEQUENCTIAL MODEL POST COMPILING DIFFERNET INPUTS\n",
        "\n",
        "x = tf.keras.layers.Dense(10, activation = \"relu\")(x)\n",
        "x = tf.keras.layers.Dropout(0.2)(x)           # DropOut Layer to Minimize Overfitting\n",
        "x = tf.keras.layers.BatchNormalization()(x)  # Batch Normalization\n",
        "\n",
        "x = tf.keras.layers.Dense(8, kernel_regularizer=l2(0.01) ,activation = 'relu')(x)   # Dense Layer with Weight Decay Enabled\n",
        "x = tf.keras.layers.BatchNormalization()(x)\n",
        "\n",
        "x = tf.keras.layers.Dense(9, activation = 'relu')(x)\n",
        "x = tf.keras.layers.Dropout(0.2)(x)      # DropOut Layer\n",
        "x = tf.keras.layers.BatchNormalization()(x)\n",
        "\n",
        "x = tf.keras.layers.Dense(5, activation = 'relu')(x)\n",
        "x = tf.keras.layers.BatchNormalization()(x)\n",
        "\n",
        "x = tf.keras.layers.Dense(7, kernel_regularizer=l2(0.05),activation = 'relu')(x)   # Weight Decay Enabled\n",
        "x = tf.keras.layers.BatchNormalization()(x)\n",
        "\n",
        "output = tf.keras.layers.Dense(Y_num.shape[1], activation = 'relu', name = 'output')(x)"
      ],
      "execution_count": 67,
      "outputs": []
    },
    {
      "cell_type": "code",
      "metadata": {
        "id": "bLgkAwqnGuKx",
        "colab": {
          "base_uri": "https://localhost:8080/"
        },
        "outputId": "f85709c4-3241-49ec-d9c4-8ce0bfc31357"
      },
      "source": [
        "# Compiling the Model and Resetting History\n",
        "modelN = tf.keras.models.Model(\n",
        "    inputs = [num_inputs, cat_inputs_a, cat_inputs_b, cat_inputs_c, cat_inputs_d, cat_inputs_e], \n",
        "    outputs = output)\n",
        "modelN.compile(optimizer = keras.optimizers.Adam(lr = 0.0005),\n",
        "               loss = \"mse\",\n",
        "               metrics = [tf.keras.losses.MeanAbsolutePercentageError()])\n",
        "\n",
        "# Resetting History\n",
        "modelN.summary()\n",
        "history = History()"
      ],
      "execution_count": 68,
      "outputs": [
        {
          "output_type": "stream",
          "text": [
            "Model: \"model_6\"\n",
            "__________________________________________________________________________________________________\n",
            "Layer (type)                    Output Shape         Param #     Connected to                     \n",
            "==================================================================================================\n",
            "cat_input_a (InputLayer)        [(None, 1)]          0                                            \n",
            "__________________________________________________________________________________________________\n",
            "cat_input_b (InputLayer)        [(None, 1)]          0                                            \n",
            "__________________________________________________________________________________________________\n",
            "cat_input_c (InputLayer)        [(None, 1)]          0                                            \n",
            "__________________________________________________________________________________________________\n",
            "cat_input_d (InputLayer)        [(None, 1)]          0                                            \n",
            "__________________________________________________________________________________________________\n",
            "cat_input_e (InputLayer)        [(None, 1)]          0                                            \n",
            "__________________________________________________________________________________________________\n",
            "embedding_20 (Embedding)        (None, 1, 6)         42          cat_input_a[0][0]                \n",
            "__________________________________________________________________________________________________\n",
            "embedding_21 (Embedding)        (None, 1, 8)         72          cat_input_b[0][0]                \n",
            "__________________________________________________________________________________________________\n",
            "embedding_22 (Embedding)        (None, 1, 5)         45          cat_input_c[0][0]                \n",
            "__________________________________________________________________________________________________\n",
            "embedding_23 (Embedding)        (None, 1, 11)        132         cat_input_d[0][0]                \n",
            "__________________________________________________________________________________________________\n",
            "embedding_24 (Embedding)        (None, 1, 11)        132         cat_input_e[0][0]                \n",
            "__________________________________________________________________________________________________\n",
            "num_input (InputLayer)          [(None, 2)]          0                                            \n",
            "__________________________________________________________________________________________________\n",
            "flatten_20 (Flatten)            (None, 6)            0           embedding_20[0][0]               \n",
            "__________________________________________________________________________________________________\n",
            "flatten_21 (Flatten)            (None, 8)            0           embedding_21[0][0]               \n",
            "__________________________________________________________________________________________________\n",
            "flatten_22 (Flatten)            (None, 5)            0           embedding_22[0][0]               \n",
            "__________________________________________________________________________________________________\n",
            "flatten_23 (Flatten)            (None, 11)           0           embedding_23[0][0]               \n",
            "__________________________________________________________________________________________________\n",
            "flatten_24 (Flatten)            (None, 11)           0           embedding_24[0][0]               \n",
            "__________________________________________________________________________________________________\n",
            "concatenate_4 (Concatenate)     (None, 43)           0           num_input[0][0]                  \n",
            "                                                                 flatten_20[0][0]                 \n",
            "                                                                 flatten_21[0][0]                 \n",
            "                                                                 flatten_22[0][0]                 \n",
            "                                                                 flatten_23[0][0]                 \n",
            "                                                                 flatten_24[0][0]                 \n",
            "__________________________________________________________________________________________________\n",
            "dense_20 (Dense)                (None, 10)           440         concatenate_4[0][0]              \n",
            "__________________________________________________________________________________________________\n",
            "dropout_8 (Dropout)             (None, 10)           0           dense_20[0][0]                   \n",
            "__________________________________________________________________________________________________\n",
            "batch_normalization_20 (BatchNo (None, 10)           40          dropout_8[0][0]                  \n",
            "__________________________________________________________________________________________________\n",
            "dense_21 (Dense)                (None, 8)            88          batch_normalization_20[0][0]     \n",
            "__________________________________________________________________________________________________\n",
            "batch_normalization_21 (BatchNo (None, 8)            32          dense_21[0][0]                   \n",
            "__________________________________________________________________________________________________\n",
            "dense_22 (Dense)                (None, 9)            81          batch_normalization_21[0][0]     \n",
            "__________________________________________________________________________________________________\n",
            "dropout_9 (Dropout)             (None, 9)            0           dense_22[0][0]                   \n",
            "__________________________________________________________________________________________________\n",
            "batch_normalization_22 (BatchNo (None, 9)            36          dropout_9[0][0]                  \n",
            "__________________________________________________________________________________________________\n",
            "dense_23 (Dense)                (None, 5)            50          batch_normalization_22[0][0]     \n",
            "__________________________________________________________________________________________________\n",
            "batch_normalization_23 (BatchNo (None, 5)            20          dense_23[0][0]                   \n",
            "__________________________________________________________________________________________________\n",
            "dense_24 (Dense)                (None, 7)            42          batch_normalization_23[0][0]     \n",
            "__________________________________________________________________________________________________\n",
            "batch_normalization_24 (BatchNo (None, 7)            28          dense_24[0][0]                   \n",
            "__________________________________________________________________________________________________\n",
            "output (Dense)                  (None, 1)            8           batch_normalization_24[0][0]     \n",
            "==================================================================================================\n",
            "Total params: 1,288\n",
            "Trainable params: 1,210\n",
            "Non-trainable params: 78\n",
            "__________________________________________________________________________________________________\n"
          ],
          "name": "stdout"
        }
      ]
    },
    {
      "cell_type": "code",
      "metadata": {
        "colab": {
          "base_uri": "https://localhost:8080/"
        },
        "id": "Z6qfK4YNG7IU",
        "outputId": "64e26a67-a7f6-45ca-93ae-778fced23134"
      },
      "source": [
        "# Fitting the model with spliced Categorical Inputs(Separated into 4) and Numerical Inputs\n",
        "modelN.fit([ X_num_std, X_cat_enc[:, 0].reshape(-1, 1), X_cat_enc[:, 1].reshape(-1, 1), X_cat_enc[:, 2].reshape(-1, 1), X_cat_enc[:, 3].reshape(-1, 1), X_cat_enc[:, 4].reshape(-1, 1)],\n",
        "           Y_num, batch_size= 10, epochs = 15, \n",
        "           validation_split=0.2,\n",
        "           callbacks=[history]\n",
        "           )"
      ],
      "execution_count": 73,
      "outputs": [
        {
          "output_type": "stream",
          "text": [
            "Epoch 1/5\n",
            "957/957 [==============================] - 3s 3ms/step - loss: 37.3607 - mean_absolute_percentage_error: 32.7074 - val_loss: 274.0816 - val_mean_absolute_percentage_error: 18.9464\n",
            "Epoch 2/5\n",
            "957/957 [==============================] - 2s 3ms/step - loss: 35.9797 - mean_absolute_percentage_error: 33.1036 - val_loss: 275.6834 - val_mean_absolute_percentage_error: 19.3095\n",
            "Epoch 3/5\n",
            "957/957 [==============================] - 3s 3ms/step - loss: 34.4103 - mean_absolute_percentage_error: 31.7143 - val_loss: 281.9550 - val_mean_absolute_percentage_error: 19.4224\n",
            "Epoch 4/5\n",
            "957/957 [==============================] - 3s 3ms/step - loss: 35.2198 - mean_absolute_percentage_error: 32.9115 - val_loss: 283.9575 - val_mean_absolute_percentage_error: 19.6226\n",
            "Epoch 5/5\n",
            "957/957 [==============================] - 2s 3ms/step - loss: 34.1225 - mean_absolute_percentage_error: 32.0347 - val_loss: 223.2392 - val_mean_absolute_percentage_error: 16.4772\n"
          ],
          "name": "stdout"
        },
        {
          "output_type": "execute_result",
          "data": {
            "text/plain": [
              "<tensorflow.python.keras.callbacks.History at 0x7f9fcac44450>"
            ]
          },
          "metadata": {
            "tags": []
          },
          "execution_count": 73
        }
      ]
    },
    {
      "cell_type": "code",
      "metadata": {
        "colab": {
          "base_uri": "https://localhost:8080/",
          "height": 279
        },
        "id": "xHT1_z1taxjx",
        "outputId": "d1d34e31-684c-4549-fc3a-cd3f8672c543"
      },
      "source": [
        "# MSE History Plot (Training Vs. Validation)\n",
        "plt.style.use('bmh')\n",
        "plt.plot(history.history['mean_absolute_percentage_error'], label =  \"Training Error Pecentage\")\n",
        "plt.plot(history.history['val_mean_absolute_percentage_error'], label =  \"Validation Error Pecentage\")\n",
        "plt.legend(loc='upper right', frameon = False)\n",
        "plt.title(\"Variation in Loss With Iteration\")\n",
        "plt.show()"
      ],
      "execution_count": 74,
      "outputs": [
        {
          "output_type": "display_data",
          "data": {
            "image/png": "[encoded data removed]",
            "text/plain": [
              "<Figure size 432x288 with 1 Axes>"
            ]
          },
          "metadata": {
            "tags": [],
            "needs_background": "light"
          }
        }
      ]
    },
    {
      "cell_type": "code",
      "metadata": {
        "id": "RjamjrS1OVlE"
      },
      "source": [
        "Y_pred = modelN.predict([ X_num_std, X_cat_enc[:, 0].reshape(-1, 1), X_cat_enc[:, 1].reshape(-1, 1), X_cat_enc[:, 2].reshape(-1, 1), X_cat_enc[:, 3].reshape(-1, 1), X_cat_enc[:, 4].reshape(-1, 1)])"
      ],
      "execution_count": 38,
      "outputs": []
    },
    {
      "cell_type": "markdown",
      "metadata": {
        "id": "Z0eZDSgAoUIi"
      },
      "source": [
        "##----------------------------------------------------------------------END--------------------------------------------------------------------------------\n",
        "#### (Predicted Values printed Ahead)"
      ]
    },
    {
      "cell_type": "code",
      "metadata": {
        "id": "sZ1h1HnyOn3P",
        "colab": {
          "base_uri": "https://localhost:8080/"
        },
        "outputId": "fd9bc16d-1771-4ed5-bdfd-22aaadc23439"
      },
      "source": [
        "print(Y_pred[:, 0])"
      ],
      "execution_count": 39,
      "outputs": [
        {
          "output_type": "stream",
          "text": [
            "[ 0.        0.        0.       ... 56.562336 55.240765 56.852196]\n"
          ],
          "name": "stdout"
        }
      ]
    },
    {
      "cell_type": "code",
      "metadata": {
        "id": "NmwVzQoIPMBU",
        "colab": {
          "base_uri": "https://localhost:8080/"
        },
        "outputId": "27cc4d0b-07e7-454c-d915-666f7c2a52d4"
      },
      "source": [
        "Y_num.values[:, 0]"
      ],
      "execution_count": 40,
      "outputs": [
        {
          "output_type": "execute_result",
          "data": {
            "text/plain": [
              "array([  1,   1,   1, ..., 132, 148, 149])"
            ]
          },
          "metadata": {
            "tags": []
          },
          "execution_count": 40
        }
      ]
    }
  ]
}